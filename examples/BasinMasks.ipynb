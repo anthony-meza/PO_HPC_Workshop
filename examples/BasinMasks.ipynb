{
 "cells": [
  {
   "cell_type": "markdown",
   "id": "2c010790-792e-4309-b637-a1182f0e492f",
   "metadata": {},
   "source": [
    "# Using xmip and regionmask to create ocean basin masks\n",
    "\n",
    "<div style=\"border: 2px solid #006d77; background-color: #83c5be; padding: 10px; margin-bottom: 10px; width: 40%;\">\n",
    "  <h3>Notebook Deliverables:</h3>\n",
    "  <ul>\n",
    "    <li>Compute Coriolis parameter and store it in an xarray object</li>\n",
    "    <li>Download ocean basin masks</li>\n",
    "    <li>Apply masks to ocean data </li>\n",
    "  </ul>\n",
    "</div>"
   ]
  },
  {
   "cell_type": "code",
   "execution_count": 11,
   "id": "b0bb6187-0d88-4b64-80c3-1dc099dad8ea",
   "metadata": {},
   "outputs": [],
   "source": [
    "import regionmask\n",
    "from xmip.regionmask import merged_mask\n",
    "import xarray as xr\n",
    "import cartopy.crs as ccrs\n",
    "import matplotlib.pyplot as plt"
   ]
  },
  {
   "cell_type": "code",
   "execution_count": 15,
   "id": "efec4078-c072-47ba-b8f7-8ff996de0462",
   "metadata": {},
   "outputs": [],
   "source": [
    "# define 1x1 grid\n",
    "import numpy as np\n",
    "dx = 0.1\n",
    "lon = np.arange(dx, 360 + dx, dx)\n",
    "lat = np.arange(90 - dx, -90 - dx, -dx)\n",
    "LON, LAT = np.meshgrid(lon, lat)\n",
    "\n",
    "omega = 2 * np.pi / 86400 #Angular rotation of Earth in rad/s\n",
    "coriolis = 2 * omega * np.sin(np.deg2rad(LAT)) #Coriolis Force\n",
    "\n",
    "ds = xr.Dataset()\n",
    "ds[\"lon\"] = xr.DataArray(lon, dims=(\"lon\"))\n",
    "ds[\"lat\"] = xr.DataArray(lat, dims=(\"lat\"))\n",
    "ds['coriolis'] = (('lat', 'lon'), coriolis)"
   ]
  },
  {
   "cell_type": "code",
   "execution_count": 16,
   "id": "d0145f8a-ce51-4075-82c3-5d1115b54f37",
   "metadata": {},
   "outputs": [
    {
     "name": "stderr",
     "output_type": "stream",
     "text": [
      "/Users/anthonymeza/miniforge3/lib/python3.11/site-packages/regionmask/core/mask.py:179: FutureWarning: Passing 'lon_name' and 'lat_name' was deprecated in v0.10.0. Please pass the coordinates directly, e.g., `mask*(ds[lon_name], ds[lat_name])`.\n",
      "  warnings.warn(\n"
     ]
    }
   ],
   "source": [
    "basins = regionmask.defined_regions.natural_earth_v4_1_0.ocean_basins_50\n",
    "mask = merged_mask(basins,ds)"
   ]
  },
  {
   "cell_type": "code",
   "execution_count": null,
   "id": "543a5658-8df9-4f4c-96aa-2fb7e04b3754",
   "metadata": {},
   "outputs": [],
   "source": [
    "cbar_kwargs = dict(orientation = \"horizontal\", fraction = 0.05)\n",
    "kwargs = dict(x='lon', y='lat',transform = ccrs.PlateCarree(), cbar_kwargs = cbar_kwargs)\n",
    "\n",
    "fig, (ax1, ax2, ax3) = plt.subplots(ncols=3, figsize=[20,5], subplot_kw={'projection':ccrs.Robinson(190)})\n",
    "ds[\"coriolis\"].plot(ax=ax1, **kwargs)\n",
    "ax1.set_title(f\"Raw field\")\n",
    "\n",
    "ds_masked = ds[\"coriolis\"].where(np.logical_or(np.logical_or(mask == 2, mask==3),mask==4)) # Pacific + Maritime Continent\n",
    "ds_masked.plot(ax=ax2, **kwargs)\n",
    "ax2.set_title(f\"Masked Pacific\")\n",
    "mask.plot(ax=ax3, cmap='tab20', vmin=0, vmax=19, **kwargs)\n",
    "ax3.set_title(f\"Full Mask\")\n",
    "for ax in [ax1, ax2, ax3]:\n",
    "    ax.coastlines()"
   ]
  },
  {
   "cell_type": "code",
   "execution_count": null,
   "id": "bf376ce8-abbd-4597-86a2-ec8cb763e222",
   "metadata": {},
   "outputs": [],
   "source": []
  }
 ],
 "metadata": {
  "kernelspec": {
   "display_name": "Python 3 (ipykernel)",
   "language": "python",
   "name": "python3"
  },
  "language_info": {
   "codemirror_mode": {
    "name": "ipython",
    "version": 3
   },
   "file_extension": ".py",
   "mimetype": "text/x-python",
   "name": "python",
   "nbconvert_exporter": "python",
   "pygments_lexer": "ipython3",
   "version": "3.11.9"
  }
 },
 "nbformat": 4,
 "nbformat_minor": 5
}
