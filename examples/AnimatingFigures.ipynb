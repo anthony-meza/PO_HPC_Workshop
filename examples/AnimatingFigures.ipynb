{
 "cells": [
  {
   "cell_type": "code",
   "execution_count": 1,
   "id": "038a001c-b1e8-46ef-a552-e38331d3ae16",
   "metadata": {},
   "outputs": [],
   "source": [
    "# !pip install xmovie\n",
    "# !conda install -c conda-forge -y ffmpeg"
   ]
  },
  {
   "cell_type": "code",
   "execution_count": 21,
   "id": "6d9c0669-175e-4e49-bfd5-f330bb4e5900",
   "metadata": {},
   "outputs": [],
   "source": [
    "import xesmf as xe\n",
    "import xarray as xr\n",
    "import cartopy.crs as ccrs\n",
    "import numpy as np\n",
    "import matplotlib.pyplot as plt\n",
    "import cmocean.cm as cm\n",
    "from netCDF4 import Dataset\n",
    "import urllib.request\n",
    "from IPython.display import Image, display\n",
    "import gc \n",
    "from IPython.display import Video\n",
    "from IPython.display import HTML"
   ]
  },
  {
   "cell_type": "code",
   "execution_count": 3,
   "id": "74f2cab7-430d-4eb1-9843-562d0f6ce8cd",
   "metadata": {},
   "outputs": [],
   "source": [
    "import warnings\n",
    "from shapely.errors import ShapelyDeprecationWarning\n",
    "from xmovie import Movie\n",
    "warnings.filterwarnings(\n",
    "    action='ignore',\n",
    "    category=ShapelyDeprecationWarning,  # in cartopy\n",
    ")\n",
    "warnings.filterwarnings(\n",
    "    action=\"ignore\",\n",
    "    category=UserWarning,\n",
    "    message=r\"No `(vmin|vmax)` provided. Data limits are calculated from input. Depending on the input this can take long. Pass `\\1` to avoid this step\"\n",
    ")\n",
    "\n"
   ]
  },
  {
   "cell_type": "markdown",
   "id": "d7aa38fe-86b2-46dd-b146-5250b4ff32ab",
   "metadata": {},
   "source": [
    "## Loading in data"
   ]
  },
  {
   "cell_type": "code",
   "execution_count": 4,
   "id": "808d4201-2c94-43bc-9aef-686eb9523b28",
   "metadata": {},
   "outputs": [],
   "source": [
    "era5_data_path = \"/vortexfs1/share/cmip6/data/era5/reanalysis/single-levels/monthly-means/\"\n",
    "\n",
    "#10m u-wind\n",
    "ds = xr.open_mfdataset(era5_data_path + \"surface_latent_heat_flux/*.nc\", \n",
    "                         engine = \"netcdf4\")\n",
    "\n",
    "data = ds[\"slhf\"].sel(longitude = slice(275, 300), latitude = slice(50, 25))\n",
    "data = data.isel(time = slice(0, 36)).compute() #preload the data, but can also be done without compute"
   ]
  },
  {
   "cell_type": "markdown",
   "id": "5a27451d-6b46-451d-a816-ad9ca150b076",
   "metadata": {},
   "source": [
    "## Making a quick and dirty movie\n",
    "\n",
    "``xmovie`` allows us to quickly create ``mp4`` or ``gif`` animations in two lines of code!"
   ]
  },
  {
   "cell_type": "code",
   "execution_count": 24,
   "id": "9c4af7d6-801d-41f7-962b-1bee360599d1",
   "metadata": {
    "scrolled": true
   },
   "outputs": [
    {
     "data": {
      "application/vnd.jupyter.widget-view+json": {
       "model_id": "78c6b60a6c67441783c27d9184453134",
       "version_major": 2,
       "version_minor": 0
      },
      "text/plain": [
       "  0%|          | 0/36 [00:00<?, ?it/s]"
      ]
     },
     "metadata": {},
     "output_type": "display_data"
    },
    {
     "name": "stdout",
     "output_type": "stream",
     "text": [
      "Movie created at movie1.mp4\n"
     ]
    }
   ],
   "source": [
    "#save movie\n",
    "mov = Movie(data, dpi = 200)\n",
    "mov.save('movie1.mp4', progress=True, \n",
    "         overwrite_existing = True,parallel=False, framerate=10)\n"
   ]
  },
  {
   "cell_type": "code",
   "execution_count": 25,
   "id": "c9aa27ae-5613-438c-9bce-13427f1b1639",
   "metadata": {},
   "outputs": [
    {
     "data": {
      "text/html": [
       "\n",
       "<div align=\"middle\">\n",
       "<video width=\"80%\" controls>\n",
       "      <source src=\"movie1.mp4\" type=\"video/mp4\">\n",
       "</video></div>"
      ],
      "text/plain": [
       "<IPython.core.display.HTML object>"
      ]
     },
     "execution_count": 25,
     "metadata": {},
     "output_type": "execute_result"
    }
   ],
   "source": [
    "#play movie using HTML\n",
    "HTML(\"\"\"\n",
    "<div align=\"middle\">\n",
    "<video width=\"80%\" controls>\n",
    "      <source src=\"movie1.mp4\" type=\"video/mp4\">\n",
    "</video></div>\"\"\")"
   ]
  },
  {
   "cell_type": "markdown",
   "id": "e58bf623-ae16-4b03-800a-5efd3ec253f1",
   "metadata": {},
   "source": [
    "## Making a presentable movie\n",
    "\n",
    "The previous animation can be improved by using ``xmovie``'s ``plotfunc`` argument. Using ``plotfunc``, we can specify how we want our plot to look and even animate multiple subfigures at once!"
   ]
  },
  {
   "cell_type": "code",
   "execution_count": 26,
   "id": "f1d67c75-0bc6-4d34-8582-7ec7e118521f",
   "metadata": {},
   "outputs": [
    {
     "data": {
      "application/vnd.jupyter.widget-view+json": {
       "model_id": "76fcc899b5394f73bafc44f8e2e3895d",
       "version_major": 2,
       "version_minor": 0
      },
      "text/plain": [
       "  0%|          | 0/36 [00:00<?, ?it/s]"
      ]
     },
     "metadata": {},
     "output_type": "display_data"
    },
    {
     "name": "stdout",
     "output_type": "stream",
     "text": [
      "Movie created at movie2.mp4\n"
     ]
    }
   ],
   "source": [
    "\n",
    "def plotting_function(ds, fig, tt, *args, **kwargs):\n",
    "    # Define station location for timeseries\n",
    "        \n",
    "    ax1 = fig.subplots(ncols=1, subplot_kw={'projection':ccrs.PlateCarree()})\n",
    "    ax1.coastlines()\n",
    "\n",
    "    cb = ax1.pcolormesh(ds.longitude, ds.latitude, ds.isel(time=tt), \n",
    "                   vmin=-4e7, vmax = 0, \n",
    "                    cmap='Reds_r', transform = ccrs.PlateCarree())\n",
    "\n",
    "    gl = ax1.gridlines(draw_labels = True)\n",
    "    ax1.set_title(ds.isel(time=tt).time.values)\n",
    "    ax1.set_aspect(1)\n",
    "    gl.top_labels = False\n",
    "    gl.right_labels = False\n",
    "\n",
    "    fig.colorbar(cb, ax = ax1, label = \"Surface Latent Heat Flux\\n[J per m^2]\")\n",
    "\n",
    "    return None, None\n",
    "    # ^ This is not strictly necessary, but otherwise a warning will be raised.\n",
    "\n",
    "#save movie with cartopy and in parallel \n",
    "mov = Movie(data, \n",
    "            plotfunc = plotting_function, \n",
    "            dpi = 200)\n",
    "\n",
    "mov.save('movie2.mp4', progress=True, \n",
    "         overwrite_existing = True,parallel=False, framerate=10)"
   ]
  },
  {
   "cell_type": "code",
   "execution_count": 27,
   "id": "025802bf-a635-4a42-a49c-2ba1962783c4",
   "metadata": {},
   "outputs": [
    {
     "data": {
      "text/html": [
       "\n",
       "<div align=\"middle\">\n",
       "<video width=\"80%\" controls>\n",
       "      <source src=\"movie2.mp4\" type=\"video/mp4\">\n",
       "</video></div>"
      ],
      "text/plain": [
       "<IPython.core.display.HTML object>"
      ]
     },
     "execution_count": 27,
     "metadata": {},
     "output_type": "execute_result"
    }
   ],
   "source": [
    "HTML(\"\"\"\n",
    "<div align=\"middle\">\n",
    "<video width=\"80%\" controls>\n",
    "      <source src=\"movie2.mp4\" type=\"video/mp4\">\n",
    "</video></div>\"\"\")"
   ]
  },
  {
   "cell_type": "markdown",
   "id": "b90d5258-cdea-4de0-a639-2bf2111b3629",
   "metadata": {},
   "source": [
    "## Making an even MORE presentable movie\n",
    "Okay, so far things look great! Execept... the animations are a little choppy. This is because our data is in monthly resolution. Let's put it onto a weekly resolution and to improve the appearance of our animation. Notice that it takes longer to create this animation since we've increased the amount of data we are using"
   ]
  },
  {
   "cell_type": "code",
   "execution_count": 28,
   "id": "614a56c4-937c-4b45-a7ec-e78e29aa4197",
   "metadata": {},
   "outputs": [
    {
     "data": {
      "application/vnd.jupyter.widget-view+json": {
       "model_id": "6f948ffe600846b9b3d7756ba71d0e7c",
       "version_major": 2,
       "version_minor": 0
      },
      "text/plain": [
       "  0%|          | 0/153 [00:00<?, ?it/s]"
      ]
     },
     "metadata": {},
     "output_type": "display_data"
    },
    {
     "name": "stdout",
     "output_type": "stream",
     "text": [
      "Movie created at movie3.mp4\n",
      "CPU times: user 45 s, sys: 205 ms, total: 45.2 s\n",
      "Wall time: 53.4 s\n"
     ]
    }
   ],
   "source": [
    "%%time\n",
    "# Interpolate time for smoother animation\n",
    "data_interp = data.resample(time=\"1W\").interpolate(\"linear\")\n",
    "\n",
    "mov = Movie(data_interp, \n",
    "            plotfunc = plotting_function, \n",
    "            dpi = 200)\n",
    "\n",
    "mov.save('movie3.mp4', progress=True, \n",
    "         overwrite_existing = True,parallel=False, framerate=10)"
   ]
  },
  {
   "cell_type": "code",
   "execution_count": 29,
   "id": "7120380b-a4d7-42d5-9ba2-6bc84146eb6e",
   "metadata": {},
   "outputs": [
    {
     "data": {
      "text/html": [
       "\n",
       "<div align=\"middle\">\n",
       "<video width=\"80%\" controls>\n",
       "      <source src=\"movie3.mp4\" type=\"video/mp4\">\n",
       "</video></div>"
      ],
      "text/plain": [
       "<IPython.core.display.HTML object>"
      ]
     },
     "execution_count": 29,
     "metadata": {},
     "output_type": "execute_result"
    }
   ],
   "source": [
    "HTML(\"\"\"\n",
    "<div align=\"middle\">\n",
    "<video width=\"80%\" controls>\n",
    "      <source src=\"movie3.mp4\" type=\"video/mp4\">\n",
    "</video></div>\"\"\")"
   ]
  },
  {
   "cell_type": "markdown",
   "id": "4f94ee3f-78cc-4246-8ce0-62cbde19d0a5",
   "metadata": {},
   "source": [
    "## Making a presentable animation in parallel\n",
    "Weekly resolution definitely improves the smoothness of our animation. However, by increasing to \n",
    "weekly resolution, we've actually quadrupled our dataset size! One minute doesn't seem like a long time for 3 years worth of animation (it isn't) but we can do better. We can execute animations in parallel. Here, we use 4 workers which should cut our animation time to 25 seconds (it does!). "
   ]
  },
  {
   "cell_type": "code",
   "execution_count": 30,
   "id": "2bf93f53-3466-4df3-b1ce-bf4d70144535",
   "metadata": {},
   "outputs": [
    {
     "name": "stdout",
     "output_type": "stream",
     "text": [
      "Movie created at movie4.mp4\n",
      "CPU times: user 3.03 s, sys: 1.01 s, total: 4.04 s\n",
      "Wall time: 25.9 s\n"
     ]
    }
   ],
   "source": [
    "%%time\n",
    "\n",
    "# Interpolate time for smoother animation\n",
    "data_interp = data.resample(time=\"1W\").interpolate(\"linear\").chunk({\"time\":1})\n",
    "\n",
    "mov = Movie(data_interp, \n",
    "            plotfunc = plotting_function, \n",
    "            dpi = 200)\n",
    "\n",
    "mov.save('movie4.mp4', progress=True, \n",
    "         overwrite_existing = True,parallel=True, framerate=10,\n",
    "        parallel_compute_kwargs=dict(scheduler=\"processes\", num_workers=4)\n",
    ")"
   ]
  },
  {
   "cell_type": "code",
   "execution_count": 31,
   "id": "a9fa90a6-0a18-42ab-8317-fcf491b0ca98",
   "metadata": {},
   "outputs": [
    {
     "data": {
      "text/html": [
       "\n",
       "<div align=\"middle\">\n",
       "<video width=\"80%\" controls>\n",
       "      <source src=\"movie4.mp4\" type=\"video/mp4\">\n",
       "</video></div>"
      ],
      "text/plain": [
       "<IPython.core.display.HTML object>"
      ]
     },
     "execution_count": 31,
     "metadata": {},
     "output_type": "execute_result"
    }
   ],
   "source": [
    "HTML(\"\"\"\n",
    "<div align=\"middle\">\n",
    "<video width=\"80%\" controls>\n",
    "      <source src=\"movie4.mp4\" type=\"video/mp4\">\n",
    "</video></div>\"\"\")"
   ]
  },
  {
   "cell_type": "code",
   "execution_count": null,
   "id": "05afeebe-5429-4522-9f41-c7d5bda84df6",
   "metadata": {},
   "outputs": [],
   "source": []
  }
 ],
 "metadata": {
  "kernelspec": {
   "display_name": "Python 3 (ipykernel)",
   "language": "python",
   "name": "python3"
  },
  "language_info": {
   "codemirror_mode": {
    "name": "ipython",
    "version": 3
   },
   "file_extension": ".py",
   "mimetype": "text/x-python",
   "name": "python",
   "nbconvert_exporter": "python",
   "pygments_lexer": "ipython3",
   "version": "3.12.6"
  }
 },
 "nbformat": 4,
 "nbformat_minor": 5
}
