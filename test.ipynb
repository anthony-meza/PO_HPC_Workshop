{
 "cells": [
  {
   "cell_type": "markdown",
   "metadata": {},
   "source": [
    "# Basic Tutorial: Using Dask and xarray on Poseidon\n",
    "\n",
    "This notebook provides a basic introduction to using Dask and xarray for parallel computing and handling multi-dimensional arrays."
   ]
  },
  {
   "cell_type": "markdown",
   "metadata": {},
   "source": [
    "## Prerequisites\n",
    "\n",
    "Ensure you have activated the Conda environment:\n",
    "```bash\n",
    "conda activate poseidon-cluster-env\n",
    "```"
   ]
  },
  {
   "cell_type": "markdown",
   "metadata": {},
   "source": [
    "## Importing Libraries"
   ]
  },
  {
   "cell_type": "code",
   "metadata": {},
   "source": [
    "import dask.array as da\n",
    "import xarray as xr\n",
    "import numpy as np\n",
    "import matplotlib.pyplot as plt"
   ]
  },
  {
   "cell_type": "markdown",
   "metadata": {},
   "source": [
    "## Loading a NetCDF File with xarray\n",
    "\n",
    "Let's load a sample NetCDF file using xarray. For this example, we'll use a sample dataset from xarray."
   ]
  },
  {
   "cell_type": "code",
   "metadata": {},
   "source": [
    "# Load a sample NetCDF file\n",
    "ds = xr.tutorial.open_dataset('rasm')\n",
    "ds"
   ]
  },
  {
   "cell_type": "markdown",
   "metadata": {},
   "source": [
    "## Exploring the Dataset\n",
    "\n",
    "We can explore the contents of the dataset to understand its structure and variables."
   ]
  },
  {
   "cell_type": "code",
   "metadata": {},
   "source": [
    "# Print dataset information\n",
    "print(ds)"
   ]
  },
  {
   "cell_type": "markdown",
   "metadata": {},
   "source": [
    "## Visualizing the Data\n",
    "\n",
    "Let's plot the air temperature (Tair) for the first time step."
   ]
  },
  {
   "cell_type": "code",
   "metadata": {},
   "source": [
    "# Select the first time step\n",
    "tair = ds.Tair.isel(time=0)\n",
    "\n",
    "# Plot the data\n",
    "tair.plot(cmap='viridis')\n",
    "plt.title('Air Temperature at First Time Step')\n",
    "plt.show()"
   ]
  }
 ],
 "metadata": {
  "kernelspec": {
   "display_name": "Python 3",
   "language": "python",
   "name": "python3"
  },
  "language_info": {
   "codemirror_mode": {
    "name": "ipython",
    "version": 3
   },
   "file_extension": ".py",
   "mimetype": "text/x-python",
   "name": "python",
   "nbconvert_exporter": "python",
   "pygments_lexer": "ipython3",
   "version": "3.9.5"
  }
 },
 "nbformat": 4,
 "nbformat_minor": 4
}
